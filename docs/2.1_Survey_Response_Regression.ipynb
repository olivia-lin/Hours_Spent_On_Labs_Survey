{
 "cells": [
  {
   "cell_type": "markdown",
   "metadata": {},
   "source": [
    "## Regression for Hours Spent on Labs Survey"
   ]
  },
  {
   "cell_type": "code",
   "execution_count": 2,
   "metadata": {},
   "outputs": [],
   "source": [
    "suppressPackageStartupMessages(library(tidyverse))\n",
    "suppressPackageStartupMessages(library(broom))"
   ]
  },
  {
   "cell_type": "markdown",
   "metadata": {},
   "source": [
    "This analysis will investigate the following question:\n",
    "\n",
    "*How does the number of times a Master of Data Science (MDS) student goes to office hours affect the average number of hours they spend working on labs per week?*\n",
    "\n",
    "based on the results collected from this [survey](https://ubc-mds.slack.com/archives/C24HU8X0W/p1554330074049900). The raw data for this study is stored in the following [repo](https://github.ubc.ca/bettybhz/Hours_Spent_On_Labs_Survey_Data)."
   ]
  },
  {
   "cell_type": "markdown",
   "metadata": {},
   "source": [
    "#### Data Preparation"
   ]
  },
  {
   "cell_type": "code",
   "execution_count": 5,
   "metadata": {},
   "outputs": [],
   "source": [
    "# Load survey data\n",
    "rawdata = suppressMessages(read_csv(\"Hours_Spent_On_Labs_Survey_Final.csv\"))\n",
    "\n",
    "# Data cleaning\n",
    "raw_df = data.frame(rawdata)\n",
    "row_to_remove = c(1:2)\n",
    "col_to_remove = c(1:19, 21, 25, 30, 31)\n",
    "df = raw_df[-row_to_remove, -col_to_remove]\n",
    "names(df) <- c(\"attend_OH\", \"lab_hours\", \"group\", \"academic\", \"yrs_out_school\", \"program\", \"stat\", \"optional\")\n",
    "df <- df %>% mutate(optional= as.integer(optional), stat= as.integer(stat), program= as.integer(program), lab_hours=as.integer(lab_hours), attend_OH= as.integer(attend_OH), group = as.factor(group), academic = as.factor(academic), yrs_out_school= as.integer(yrs_out_school)) %>% select (lab_hours, everything())\n",
    "df$yrs_group <- cut(df$yrs, breaks=c(0, 3, 6,16), right = FALSE, labels = c(\"0-2\",\"3-5\",\"5+\"))"
   ]
  },
  {
   "cell_type": "markdown",
   "metadata": {},
   "source": [
    "#### Baselien Model"
   ]
  },
  {
   "cell_type": "code",
   "execution_count": 6,
   "metadata": {
    "scrolled": true
   },
   "outputs": [
    {
     "data": {
      "text/html": [
       "<table>\n",
       "<thead><tr><th scope=col>term</th><th scope=col>estimate</th><th scope=col>std.error</th><th scope=col>statistic</th><th scope=col>p.value</th></tr></thead>\n",
       "<tbody>\n",
       "\t<tr><td>(Intercept) </td><td>3.08684341  </td><td>0.10185073  </td><td>30.307525   </td><td>3.758470e-35</td></tr>\n",
       "\t<tr><td>attend_OH   </td><td>0.09727971  </td><td>0.04064051  </td><td> 2.393664   </td><td>2.025323e-02</td></tr>\n",
       "</tbody>\n",
       "</table>\n"
      ],
      "text/latex": [
       "\\begin{tabular}{r|lllll}\n",
       " term & estimate & std.error & statistic & p.value\\\\\n",
       "\\hline\n",
       "\t (Intercept)  & 3.08684341   & 0.10185073   & 30.307525    & 3.758470e-35\\\\\n",
       "\t attend\\_OH   & 0.09727971    & 0.04064051    &  2.393664     & 2.025323e-02 \\\\\n",
       "\\end{tabular}\n"
      ],
      "text/markdown": [
       "\n",
       "term | estimate | std.error | statistic | p.value | \n",
       "|---|---|\n",
       "| (Intercept)  | 3.08684341   | 0.10185073   | 30.307525    | 3.758470e-35 | \n",
       "| attend_OH    | 0.09727971   | 0.04064051   |  2.393664    | 2.025323e-02 | \n",
       "\n",
       "\n"
      ],
      "text/plain": [
       "  term        estimate   std.error  statistic p.value     \n",
       "1 (Intercept) 3.08684341 0.10185073 30.307525 3.758470e-35\n",
       "2 attend_OH   0.09727971 0.04064051  2.393664 2.025323e-02"
      ]
     },
     "metadata": {},
     "output_type": "display_data"
    }
   ],
   "source": [
    "base <- glm(lab_hours ~ attend_OH , data = df, family = gaussian(link = \"log\"))\n",
    "tidy(base)"
   ]
  },
  {
   "cell_type": "markdown",
   "metadata": {},
   "source": [
    "#### Models with Potiential Confunding Variables "
   ]
  },
  {
   "cell_type": "markdown",
   "metadata": {},
   "source": [
    "- optional\n",
    "- stat\n",
    "- program"
   ]
  },
  {
   "cell_type": "markdown",
   "metadata": {},
   "source": [
    "> **a. model with optional**"
   ]
  },
  {
   "cell_type": "code",
   "execution_count": 7,
   "metadata": {},
   "outputs": [
    {
     "data": {
      "text/html": [
       "<table>\n",
       "<thead><tr><th scope=col>term</th><th scope=col>estimate</th><th scope=col>std.error</th><th scope=col>statistic</th><th scope=col>p.value</th></tr></thead>\n",
       "<tbody>\n",
       "\t<tr><td>(Intercept) </td><td> 3.20967986 </td><td>0.18795945  </td><td>17.076449   </td><td>5.683253e-23</td></tr>\n",
       "\t<tr><td>attend_OH   </td><td> 0.09585089 </td><td>0.04096773  </td><td> 2.339668   </td><td>2.317576e-02</td></tr>\n",
       "\t<tr><td>optional    </td><td>-0.05053274 </td><td>0.06356079  </td><td>-0.795030   </td><td>4.302100e-01</td></tr>\n",
       "</tbody>\n",
       "</table>\n"
      ],
      "text/latex": [
       "\\begin{tabular}{r|lllll}\n",
       " term & estimate & std.error & statistic & p.value\\\\\n",
       "\\hline\n",
       "\t (Intercept)  &  3.20967986  & 0.18795945   & 17.076449    & 5.683253e-23\\\\\n",
       "\t attend\\_OH   &  0.09585089   & 0.04096773    &  2.339668     & 2.317576e-02 \\\\\n",
       "\t optional     & -0.05053274  & 0.06356079   & -0.795030    & 4.302100e-01\\\\\n",
       "\\end{tabular}\n"
      ],
      "text/markdown": [
       "\n",
       "term | estimate | std.error | statistic | p.value | \n",
       "|---|---|---|\n",
       "| (Intercept)  |  3.20967986  | 0.18795945   | 17.076449    | 5.683253e-23 | \n",
       "| attend_OH    |  0.09585089  | 0.04096773   |  2.339668    | 2.317576e-02 | \n",
       "| optional     | -0.05053274  | 0.06356079   | -0.795030    | 4.302100e-01 | \n",
       "\n",
       "\n"
      ],
      "text/plain": [
       "  term        estimate    std.error  statistic p.value     \n",
       "1 (Intercept)  3.20967986 0.18795945 17.076449 5.683253e-23\n",
       "2 attend_OH    0.09585089 0.04096773  2.339668 2.317576e-02\n",
       "3 optional    -0.05053274 0.06356079 -0.795030 4.302100e-01"
      ]
     },
     "metadata": {},
     "output_type": "display_data"
    }
   ],
   "source": [
    "mod1 <- glm(lab_hours ~ attend_OH + optional, data = df, family = gaussian(link = \"log\"))\n",
    "tidy(mod1)"
   ]
  },
  {
   "cell_type": "code",
   "execution_count": 13,
   "metadata": {},
   "outputs": [
    {
     "name": "stderr",
     "output_type": "stream",
     "text": [
      "Warning message in tidy.anova(anova(mod1, test = \"F\")):\n",
      "“The following column names in ANOVA output were not recognized or transformed: Deviance, Resid..Df, Resid..Dev”"
     ]
    },
    {
     "data": {
      "text/html": [
       "<table>\n",
       "<thead><tr><th scope=col>term</th><th scope=col>df</th><th scope=col>Deviance</th><th scope=col>Resid..Df</th><th scope=col>Resid..Dev</th><th scope=col>statistic</th><th scope=col>p.value</th></tr></thead>\n",
       "<tbody>\n",
       "\t<tr><td>NULL      </td><td>NA        </td><td>       NA </td><td>54        </td><td>8592.109  </td><td>       NA </td><td>        NA</td></tr>\n",
       "\t<tr><td>attend_OH </td><td> 1        </td><td>818.88788 </td><td>53        </td><td>7773.221  </td><td>5.5483027 </td><td>0.02230556</td></tr>\n",
       "\t<tr><td>optional  </td><td> 1        </td><td> 98.40167 </td><td>52        </td><td>7674.820  </td><td>0.6667119 </td><td>0.41792538</td></tr>\n",
       "</tbody>\n",
       "</table>\n"
      ],
      "text/latex": [
       "\\begin{tabular}{r|lllllll}\n",
       " term & df & Deviance & Resid..Df & Resid..Dev & statistic & p.value\\\\\n",
       "\\hline\n",
       "\t NULL       & NA         &        NA  & 54         & 8592.109   &        NA  &         NA\\\\\n",
       "\t attend\\_OH &  1          & 818.88788   & 53          & 7773.221    & 5.5483027   & 0.02230556 \\\\\n",
       "\t optional   &  1         &  98.40167  & 52         & 7674.820   & 0.6667119  & 0.41792538\\\\\n",
       "\\end{tabular}\n"
      ],
      "text/markdown": [
       "\n",
       "term | df | Deviance | Resid..Df | Resid..Dev | statistic | p.value | \n",
       "|---|---|---|\n",
       "| NULL       | NA         |        NA  | 54         | 8592.109   |        NA  |         NA | \n",
       "| attend_OH  |  1         | 818.88788  | 53         | 7773.221   | 5.5483027  | 0.02230556 | \n",
       "| optional   |  1         |  98.40167  | 52         | 7674.820   | 0.6667119  | 0.41792538 | \n",
       "\n",
       "\n"
      ],
      "text/plain": [
       "  term      df Deviance  Resid..Df Resid..Dev statistic p.value   \n",
       "1 NULL      NA        NA 54        8592.109          NA         NA\n",
       "2 attend_OH  1 818.88788 53        7773.221   5.5483027 0.02230556\n",
       "3 optional   1  98.40167 52        7674.820   0.6667119 0.41792538"
      ]
     },
     "metadata": {},
     "output_type": "display_data"
    }
   ],
   "source": [
    "tidy(anova(mod1, test= \"F\"))"
   ]
  },
  {
   "cell_type": "markdown",
   "metadata": {},
   "source": [
    "**Observation:**\n",
    "\n",
    "According to Table 2, the coefficient for `attend_OH` is 0.096, which is within the 95% confidence interval (0.0176, 0.177) from the baseline model. According to Table 3, our ANOVA F-test also shows that adding the variable optional does not help improve our model. Therefore, variable `optional` is not a true confounding variable and we will not include `optional` in our final model."
   ]
  },
  {
   "cell_type": "markdown",
   "metadata": {},
   "source": [
    "> **b. model with stat**"
   ]
  },
  {
   "cell_type": "code",
   "execution_count": 10,
   "metadata": {
    "scrolled": true
   },
   "outputs": [
    {
     "data": {
      "text/html": [
       "<table>\n",
       "<thead><tr><th scope=col>term</th><th scope=col>estimate</th><th scope=col>std.error</th><th scope=col>statistic</th><th scope=col>p.value</th></tr></thead>\n",
       "<tbody>\n",
       "\t<tr><td>(Intercept) </td><td>2.84169880  </td><td>0.25095069  </td><td>11.323734   </td><td>1.194923e-15</td></tr>\n",
       "\t<tr><td>attend_OH   </td><td>0.11071148  </td><td>0.04275230  </td><td> 2.589603   </td><td>1.243474e-02</td></tr>\n",
       "\t<tr><td>stat        </td><td>0.07627068  </td><td>0.06779053  </td><td> 1.125093   </td><td>2.657159e-01</td></tr>\n",
       "</tbody>\n",
       "</table>\n"
      ],
      "text/latex": [
       "\\begin{tabular}{r|lllll}\n",
       " term & estimate & std.error & statistic & p.value\\\\\n",
       "\\hline\n",
       "\t (Intercept)  & 2.84169880   & 0.25095069   & 11.323734    & 1.194923e-15\\\\\n",
       "\t attend\\_OH   & 0.11071148    & 0.04275230    &  2.589603     & 1.243474e-02 \\\\\n",
       "\t stat         & 0.07627068   & 0.06779053   &  1.125093    & 2.657159e-01\\\\\n",
       "\\end{tabular}\n"
      ],
      "text/markdown": [
       "\n",
       "term | estimate | std.error | statistic | p.value | \n",
       "|---|---|---|\n",
       "| (Intercept)  | 2.84169880   | 0.25095069   | 11.323734    | 1.194923e-15 | \n",
       "| attend_OH    | 0.11071148   | 0.04275230   |  2.589603    | 1.243474e-02 | \n",
       "| stat         | 0.07627068   | 0.06779053   |  1.125093    | 2.657159e-01 | \n",
       "\n",
       "\n"
      ],
      "text/plain": [
       "  term        estimate   std.error  statistic p.value     \n",
       "1 (Intercept) 2.84169880 0.25095069 11.323734 1.194923e-15\n",
       "2 attend_OH   0.11071148 0.04275230  2.589603 1.243474e-02\n",
       "3 stat        0.07627068 0.06779053  1.125093 2.657159e-01"
      ]
     },
     "metadata": {},
     "output_type": "display_data"
    }
   ],
   "source": [
    "mod2 <- glm(lab_hours ~ attend_OH + stat, data = df, family = gaussian(link = \"log\"))\n",
    "tidy(mod2)"
   ]
  },
  {
   "cell_type": "code",
   "execution_count": 11,
   "metadata": {
    "scrolled": true
   },
   "outputs": [
    {
     "name": "stderr",
     "output_type": "stream",
     "text": [
      "Warning message in tidy.anova(anova(mod2, test = \"F\")):\n",
      "“The following column names in ANOVA output were not recognized or transformed: Deviance, Resid..Df, Resid..Dev”"
     ]
    },
    {
     "data": {
      "text/html": [
       "<table>\n",
       "<thead><tr><th scope=col>term</th><th scope=col>df</th><th scope=col>Deviance</th><th scope=col>Resid..Df</th><th scope=col>Resid..Dev</th><th scope=col>statistic</th><th scope=col>p.value</th></tr></thead>\n",
       "<tbody>\n",
       "\t<tr><td>NULL      </td><td>NA        </td><td>      NA  </td><td>54        </td><td>8592.109  </td><td>      NA  </td><td>        NA</td></tr>\n",
       "\t<tr><td>attend_OH </td><td> 1        </td><td>818.8879  </td><td>53        </td><td>7773.221  </td><td>5.618480  </td><td>0.02151522</td></tr>\n",
       "\t<tr><td>stat      </td><td> 1        </td><td>194.3135  </td><td>52        </td><td>7578.908  </td><td>1.333207  </td><td>0.25351428</td></tr>\n",
       "</tbody>\n",
       "</table>\n"
      ],
      "text/latex": [
       "\\begin{tabular}{r|lllllll}\n",
       " term & df & Deviance & Resid..Df & Resid..Dev & statistic & p.value\\\\\n",
       "\\hline\n",
       "\t NULL       & NA         &       NA   & 54         & 8592.109   &       NA   &         NA\\\\\n",
       "\t attend\\_OH &  1          & 818.8879    & 53          & 7773.221    & 5.618480    & 0.02151522 \\\\\n",
       "\t stat       &  1         & 194.3135   & 52         & 7578.908   & 1.333207   & 0.25351428\\\\\n",
       "\\end{tabular}\n"
      ],
      "text/markdown": [
       "\n",
       "term | df | Deviance | Resid..Df | Resid..Dev | statistic | p.value | \n",
       "|---|---|---|\n",
       "| NULL       | NA         |       NA   | 54         | 8592.109   |       NA   |         NA | \n",
       "| attend_OH  |  1         | 818.8879   | 53         | 7773.221   | 5.618480   | 0.02151522 | \n",
       "| stat       |  1         | 194.3135   | 52         | 7578.908   | 1.333207   | 0.25351428 | \n",
       "\n",
       "\n"
      ],
      "text/plain": [
       "  term      df Deviance Resid..Df Resid..Dev statistic p.value   \n",
       "1 NULL      NA       NA 54        8592.109         NA          NA\n",
       "2 attend_OH  1 818.8879 53        7773.221   5.618480  0.02151522\n",
       "3 stat       1 194.3135 52        7578.908   1.333207  0.25351428"
      ]
     },
     "metadata": {},
     "output_type": "display_data"
    }
   ],
   "source": [
    "tidy(anova(mod2, test= \"F\"))"
   ]
  },
  {
   "cell_type": "markdown",
   "metadata": {},
   "source": [
    "**Observation:**\n",
    "\n",
    "According to Table 4, the coefficient for `attend_OH` is 0.111, which is within the 95% confidence interval (0.0176, 0.177) from the baseline model. According to Table 5, our ANOVA F-test also shows that adding the variable `stat` does not help improve our model. Therefore, variable `stat` is not a true confounding variable and we will not include `stat` in our final model."
   ]
  },
  {
   "cell_type": "markdown",
   "metadata": {},
   "source": [
    "> **c. model with program**"
   ]
  },
  {
   "cell_type": "code",
   "execution_count": 14,
   "metadata": {
    "scrolled": true
   },
   "outputs": [
    {
     "data": {
      "text/html": [
       "<table>\n",
       "<thead><tr><th scope=col>term</th><th scope=col>estimate</th><th scope=col>std.error</th><th scope=col>statistic</th><th scope=col>p.value</th></tr></thead>\n",
       "<tbody>\n",
       "\t<tr><td>(Intercept) </td><td> 3.36521910 </td><td>0.21324337  </td><td>15.781120   </td><td>1.790939e-21</td></tr>\n",
       "\t<tr><td>attend_OH   </td><td> 0.08740459 </td><td>0.04070128  </td><td> 2.147466   </td><td>3.643819e-02</td></tr>\n",
       "\t<tr><td>program     </td><td>-0.09015294 </td><td>0.06261829  </td><td>-1.439722   </td><td>1.559394e-01</td></tr>\n",
       "</tbody>\n",
       "</table>\n"
      ],
      "text/latex": [
       "\\begin{tabular}{r|lllll}\n",
       " term & estimate & std.error & statistic & p.value\\\\\n",
       "\\hline\n",
       "\t (Intercept)  &  3.36521910  & 0.21324337   & 15.781120    & 1.790939e-21\\\\\n",
       "\t attend\\_OH   &  0.08740459   & 0.04070128    &  2.147466     & 3.643819e-02 \\\\\n",
       "\t program      & -0.09015294  & 0.06261829   & -1.439722    & 1.559394e-01\\\\\n",
       "\\end{tabular}\n"
      ],
      "text/markdown": [
       "\n",
       "term | estimate | std.error | statistic | p.value | \n",
       "|---|---|---|\n",
       "| (Intercept)  |  3.36521910  | 0.21324337   | 15.781120    | 1.790939e-21 | \n",
       "| attend_OH    |  0.08740459  | 0.04070128   |  2.147466    | 3.643819e-02 | \n",
       "| program      | -0.09015294  | 0.06261829   | -1.439722    | 1.559394e-01 | \n",
       "\n",
       "\n"
      ],
      "text/plain": [
       "  term        estimate    std.error  statistic p.value     \n",
       "1 (Intercept)  3.36521910 0.21324337 15.781120 1.790939e-21\n",
       "2 attend_OH    0.08740459 0.04070128  2.147466 3.643819e-02\n",
       "3 program     -0.09015294 0.06261829 -1.439722 1.559394e-01"
      ]
     },
     "metadata": {},
     "output_type": "display_data"
    }
   ],
   "source": [
    "mod3 <- glm(lab_hours ~ attend_OH + program, data = df, family = gaussian(link = \"log\"))\n",
    "tidy(mod3)"
   ]
  },
  {
   "cell_type": "code",
   "execution_count": 15,
   "metadata": {
    "scrolled": true
   },
   "outputs": [
    {
     "name": "stderr",
     "output_type": "stream",
     "text": [
      "Warning message in tidy.anova(anova(mod3, test = \"F\")):\n",
      "“The following column names in ANOVA output were not recognized or transformed: Deviance, Resid..Df, Resid..Dev”"
     ]
    },
    {
     "data": {
      "text/html": [
       "<table>\n",
       "<thead><tr><th scope=col>term</th><th scope=col>df</th><th scope=col>Deviance</th><th scope=col>Resid..Df</th><th scope=col>Resid..Dev</th><th scope=col>statistic</th><th scope=col>p.value</th></tr></thead>\n",
       "<tbody>\n",
       "\t<tr><td>NULL      </td><td>NA        </td><td>      NA  </td><td>54        </td><td>8592.109  </td><td>      NA  </td><td>        NA</td></tr>\n",
       "\t<tr><td>attend_OH </td><td> 1        </td><td>818.8879  </td><td>53        </td><td>7773.221  </td><td>5.696671  </td><td>0.02066977</td></tr>\n",
       "\t<tr><td>program   </td><td> 1        </td><td>298.4055  </td><td>52        </td><td>7474.816  </td><td>2.075886  </td><td>0.15563769</td></tr>\n",
       "</tbody>\n",
       "</table>\n"
      ],
      "text/latex": [
       "\\begin{tabular}{r|lllllll}\n",
       " term & df & Deviance & Resid..Df & Resid..Dev & statistic & p.value\\\\\n",
       "\\hline\n",
       "\t NULL       & NA         &       NA   & 54         & 8592.109   &       NA   &         NA\\\\\n",
       "\t attend\\_OH &  1          & 818.8879    & 53          & 7773.221    & 5.696671    & 0.02066977 \\\\\n",
       "\t program    &  1         & 298.4055   & 52         & 7474.816   & 2.075886   & 0.15563769\\\\\n",
       "\\end{tabular}\n"
      ],
      "text/markdown": [
       "\n",
       "term | df | Deviance | Resid..Df | Resid..Dev | statistic | p.value | \n",
       "|---|---|---|\n",
       "| NULL       | NA         |       NA   | 54         | 8592.109   |       NA   |         NA | \n",
       "| attend_OH  |  1         | 818.8879   | 53         | 7773.221   | 5.696671   | 0.02066977 | \n",
       "| program    |  1         | 298.4055   | 52         | 7474.816   | 2.075886   | 0.15563769 | \n",
       "\n",
       "\n"
      ],
      "text/plain": [
       "  term      df Deviance Resid..Df Resid..Dev statistic p.value   \n",
       "1 NULL      NA       NA 54        8592.109         NA          NA\n",
       "2 attend_OH  1 818.8879 53        7773.221   5.696671  0.02066977\n",
       "3 program    1 298.4055 52        7474.816   2.075886  0.15563769"
      ]
     },
     "metadata": {},
     "output_type": "display_data"
    }
   ],
   "source": [
    "tidy(anova(mod3, test= \"F\"))"
   ]
  },
  {
   "cell_type": "markdown",
   "metadata": {},
   "source": [
    "**Observation:**\n",
    "\n",
    "According to Table 6, the coefficient for `attend_OH` is 0.087, which is within the 95% confidence interval (0.0176, 0.177) from the baseline model. According to Table 7, our ANOVA F-test also shows that adding the variable `program` does not help improve our model. Therefore, variable `program` is not a true confounding variable and we will not include `program` in our final model."
   ]
  },
  {
   "cell_type": "markdown",
   "metadata": {},
   "source": [
    "### Conclusion\n",
    "\n",
    "Based on our Exploratory Data Analysis (EDA), we decide to focus our empirical investigation on three confunding variables `optioanl`, `stat`, and `program`. However, after performing regression and F-test on these variables, we found that they are not true confounding variables and adding these three variables does not improve our model. \n",
    "\n",
    "Therefore, our final model is our baseline model $E(Y) = exp(\\beta_0 + \\beta_{\\text{attend_OH}}X_{\\text{attend_OH}})$.\n",
    "\n",
    "Since the p-value is 0.02 which is small enough, we can reject the null hypothesis under significance level of 0.05. Therefore, the number of times a MDS student attends office hours affects the average number of hours spent working on labs per week. The coefficient for `attend_OH` is 0.097, where exp(0.097) is the effect of attending office hours. This means on average, one visit increase in office hours is expected to increase hours spent on labs per week by 1.1 times.\n"
   ]
  },
  {
   "cell_type": "code",
   "execution_count": null,
   "metadata": {},
   "outputs": [],
   "source": []
  }
 ],
 "metadata": {
  "kernelspec": {
   "display_name": "R",
   "language": "R",
   "name": "ir"
  },
  "language_info": {
   "codemirror_mode": "r",
   "file_extension": ".r",
   "mimetype": "text/x-r-source",
   "name": "R",
   "pygments_lexer": "r",
   "version": "3.5.1"
  }
 },
 "nbformat": 4,
 "nbformat_minor": 2
}
